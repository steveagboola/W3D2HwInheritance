{
 "cells": [
  {
   "cell_type": "markdown",
   "metadata": {},
   "source": [
    "#### Exercise 1 - Class Inheritance"
   ]
  },
  {
   "cell_type": "markdown",
   "metadata": {},
   "source": [
    "Create an Employee class that sets an employee's first name, last name, job title, salary, and email. The Employee class should have a class attribute for the raise amount set to 5% (1.05). Create a method that will apply the raise to an employee's salary."
   ]
  },
  {
   "cell_type": "markdown",
   "metadata": {},
   "source": []
  },
  {
   "cell_type": "code",
   "execution_count": 58,
   "metadata": {},
   "outputs": [
    {
     "name": "stdout",
     "output_type": "stream",
     "text": [
      "George is an admin makes 100000 and email is georgew@mycompany.com\n"
     ]
    }
   ],
   "source": [
    "# Write the Employee Parent Class Here\n",
    "\n",
    "class Employee:\n",
    "    raise_amount = 1.05 # Class Attribute (10% raise)\n",
    "    \n",
    "    def __init__(self, first_name, last_name, job_title, salary):\n",
    "        self.first_name = first_name.title()\n",
    "        self.last_name = last_name.title()\n",
    "        self.job_title = job_title\n",
    "        self.salary = salary\n",
    "        self.email =  (first_name.lower() + last_name[0].lower() + '@mycompany.com')\n",
    "\n",
    "    def __str__(self):\n",
    "        return f\"{self.first_name} is an {self.job_title} makes {self.salary} and email is {self.email}\"\n",
    "        \n",
    "        \n",
    "    def apply_raise(self):\n",
    "        self.salary = round(self.salary * Employee.raise_amount)\n",
    "        print(f\"Congrats {self.first_name}, you have received a raise and your new salary is ${self.salary}\")\n",
    "        \n",
    "        \n",
    "emp_1 = Employee('George', 'Washington', \"admin\",100000)\n",
    "emp_2 = Employee('Abraham', 'Lincoln',\"sec\", 50000)\n",
    "print(emp_1)"
   ]
  },
  {
   "cell_type": "code",
   "execution_count": null,
   "metadata": {},
   "outputs": [],
   "source": []
  },
  {
   "cell_type": "markdown",
   "metadata": {},
   "source": [
    "Create two more classes that inherit from the Employee class. One for Sales and one for Development. Both of these classes will have the same attributes as the Employee.<br>\n",
    "- For the Sales employees, add a phone number attribute on instantiation using the super method. \n",
    "- Create a method on the Sales class that will \"Send a Follow Up Email\". It should take in a customer name and \"send\" aka print a formatted email \"Dear *customer*, Thank you for your interest in our product. Please let me know if you have any questions. My email is *email* or my phone number is *phone number*. Thanks, *full name*\"\n",
    "- Create a method on the Development class called code that will print out \"*full name* is writing code\"."
   ]
  },
  {
   "cell_type": "code",
   "execution_count": 62,
   "metadata": {},
   "outputs": [
    {
     "name": "stdout",
     "output_type": "stream",
     "text": [
      "Steve is an CEO makes 10000000 and email is stevea@mycompany.com\n",
      "Dear John Adam, Thank you for your interest in our product.  Please let me know if you have any questions.  My email is stevea@mycompany.com or my phone number is 8458494.  Thank, Steve Agboola\n"
     ]
    }
   ],
   "source": [
    "# Write the Sales child Class Here\n",
    "\n",
    "class Sales(Employee):\n",
    "    def __init__(self, first_name, last_name, job_title, salary, phone_number):\n",
    "        super().__init__(first_name, last_name, job_title, salary)\n",
    "        self.phone_number = phone_number\n",
    "\n",
    "\n",
    "    def follow_up_email (self, customer_name):\n",
    "        # self.customer_name = customer_name\n",
    "        print(f\"Dear {customer_name}, Thank you for your interest in our product.  Please let me know if you have any questions.  My email is {self.email} or my phone number is {self.phone_number}.  Thank, {self.first_name} {self.last_name}\")\n",
    "\n",
    "\n",
    "# Write the Development child Class Here\n",
    "class Development(Employee):\n",
    "    def code (self):\n",
    "        print(f\"{self.first_name} {self.last_name}s writing code\")\n",
    "\n",
    "\n",
    "emp_3 = Sales(\"steve\",\"agboola\",\"CEO\", 10000000,  8458494)\n",
    "\n",
    "print(emp_3)\n",
    "\n",
    "emp_3.follow_up_email(\"John Adam\")"
   ]
  },
  {
   "cell_type": "code",
   "execution_count": null,
   "metadata": {},
   "outputs": [],
   "source": []
  },
  {
   "cell_type": "markdown",
   "metadata": {},
   "source": [
    "- Create an instance of a Sales Employee with a salary of $50,000.\n",
    "- Send follow up emails to \"Mike O'Neil\" and \"Hannah Stern\"\n",
    "- Give the employee a raise and print the salary"
   ]
  },
  {
   "cell_type": "code",
   "execution_count": 64,
   "metadata": {},
   "outputs": [
    {
     "name": "stdout",
     "output_type": "stream",
     "text": [
      "John is an Writer makes 50000 and email is johnj@mycompany.com\n"
     ]
    }
   ],
   "source": [
    "#first_name, last_name, job_title, salary, email, phone_number\n",
    "# Create the instance\n",
    "sales_employee = Sales(\"John\", \"Johnson\",\"Writer\", 50000, 494840)\n",
    "\n",
    "print(sales_employee)"
   ]
  },
  {
   "cell_type": "code",
   "execution_count": 65,
   "metadata": {},
   "outputs": [
    {
     "name": "stdout",
     "output_type": "stream",
     "text": [
      "Dear Mike O'Neil, Thank you for your interest in our product.  Please let me know if you have any questions.  My email is johnj@mycompany.com or my phone number is 494840.  Thank, John Johnson\n"
     ]
    }
   ],
   "source": [
    "# Send follow up to Mike\n",
    "sales_employee.follow_up_email(\"Mike O'Neil\")"
   ]
  },
  {
   "cell_type": "code",
   "execution_count": 66,
   "metadata": {},
   "outputs": [
    {
     "name": "stdout",
     "output_type": "stream",
     "text": [
      "Dear Hannah Stern, Thank you for your interest in our product.  Please let me know if you have any questions.  My email is johnj@mycompany.com or my phone number is 494840.  Thank, John Johnson\n"
     ]
    }
   ],
   "source": [
    "# Send follow up to Hannah\n",
    "sales_employee.follow_up_email(\"Hannah Stern\")"
   ]
  },
  {
   "cell_type": "code",
   "execution_count": 67,
   "metadata": {},
   "outputs": [
    {
     "name": "stdout",
     "output_type": "stream",
     "text": [
      "Congrats John, you have received a raise and your new salary is $52500\n",
      "52500\n"
     ]
    }
   ],
   "source": [
    "# Give the sales employee a raise\n",
    "sales_employee.apply_raise()\n",
    "print(sales_employee.salary)"
   ]
  },
  {
   "cell_type": "markdown",
   "metadata": {},
   "source": [
    "- Create an instance of a Development Employee with a salary of $100,000\n",
    "- Write some code with this employee\n",
    "- Give the employee a raise and print the salary"
   ]
  },
  {
   "cell_type": "code",
   "execution_count": 69,
   "metadata": {},
   "outputs": [
    {
     "name": "stdout",
     "output_type": "stream",
     "text": [
      "Sue is an Coder makes 100000 and email is sueh@mycompany.com\n"
     ]
    }
   ],
   "source": [
    "# Create the instance\n",
    "development_employee = Development(\"Sue\", \"Harper\", \"Coder\", 100000)\n",
    "print(development_employee)"
   ]
  },
  {
   "cell_type": "code",
   "execution_count": 70,
   "metadata": {},
   "outputs": [
    {
     "name": "stdout",
     "output_type": "stream",
     "text": [
      "Steve Coders writing code\n"
     ]
    }
   ],
   "source": [
    "# Write some code (call code method)\n",
    "best_coder = Development(\"Steve\",\"coder\",\"coders\",100000)\n",
    "best_coder.code()\n"
   ]
  },
  {
   "cell_type": "code",
   "execution_count": 77,
   "metadata": {},
   "outputs": [
    {
     "name": "stdout",
     "output_type": "stream",
     "text": [
      "Congrats Sam, you have received a raise and your new salary is $262500\n"
     ]
    }
   ],
   "source": [
    "# Give the dev employee a raise\n",
    "dev_team = Development(\"Sam\",\"Adams\",\"Part Owner\",250000)\n",
    "dev_team.apply_raise()"
   ]
  },
  {
   "cell_type": "markdown",
   "metadata": {},
   "source": [
    "#### Exercise 2 - Importing Modules"
   ]
  },
  {
   "cell_type": "markdown",
   "metadata": {},
   "source": [
    "In VS Code, create a module titled `geometry` and add two functions in there. One that will calculate the area of a circle given a radius. The second will find the hypotenuse of a right angle given the two sides. Import the module or the functions from the module and use it to find the answers to the below questions"
   ]
  },
  {
   "cell_type": "markdown",
   "metadata": {},
   "source": [
    "What is the area of a circle with a radius of 7cm?"
   ]
  },
  {
   "cell_type": "code",
   "execution_count": null,
   "metadata": {},
   "outputs": [],
   "source": []
  },
  {
   "cell_type": "markdown",
   "metadata": {},
   "source": [
    "What is the hypotenuse of a right angle with sides of 3in and 4in?"
   ]
  },
  {
   "cell_type": "code",
   "execution_count": null,
   "metadata": {},
   "outputs": [],
   "source": []
  }
 ],
 "metadata": {
  "kernelspec": {
   "display_name": "Python 3 (ipykernel)",
   "language": "python",
   "name": "python3"
  },
  "language_info": {
   "codemirror_mode": {
    "name": "ipython",
    "version": 3
   },
   "file_extension": ".py",
   "mimetype": "text/x-python",
   "name": "python",
   "nbconvert_exporter": "python",
   "pygments_lexer": "ipython3",
   "version": "3.11.5"
  }
 },
 "nbformat": 4,
 "nbformat_minor": 4
}
